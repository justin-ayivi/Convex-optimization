{
  "nbformat": 4,
  "nbformat_minor": 0,
  "metadata": {
    "colab": {
      "name": "Copie de Travail_optimization.ipynb",
      "provenance": [],
      "collapsed_sections": []
    },
    "kernelspec": {
      "name": "python3",
      "display_name": "Python 3"
    },
    "language_info": {
      "name": "python"
    }
  },
  "cells": [
    {
      "cell_type": "code",
      "metadata": {
        "id": "9EpdY60wG6DU"
      },
      "source": [
        "import numpy as np\n",
        "import math\n",
        "from time import time\n",
        "import matplotlib.pyplot as plt\n",
        "from sklearn.linear_model import Lasso\n"
      ],
      "execution_count": 1,
      "outputs": []
    },
    {
      "cell_type": "markdown",
      "metadata": {
        "id": "6NheIIS4OiQj"
      },
      "source": [
        "## **Question 2** : Preliminaries\n",
        "\n",
        "Write the constrained problem minimization \n",
        "\n",
        "$$\n",
        "\\begin{cases}\n",
        "\\displaystyle\n",
        "\\min_{\\nu}   \\left( \\nu^{T} Q \\nu + p^{T} \\nu \\right)\\\\ \n",
        "s.t. A\\nu \\preceq b\n",
        "\\end{cases}\n",
        "$$\n",
        "as unconstrained problem minimization \n",
        "\n",
        "$$\n",
        "\t    \\min_{\\nu} g_{t}(\\nu) \\triangleq t \\left( \\nu^{T} Q \\nu + p^{T} \\nu \\right) - \\sum_{i=1}^{2d} \\log \\left( b_i - \\left[ A \\nu \\right]_{i} \\right)\n",
        "$$\n",
        "\n"
      ]
    },
    {
      "cell_type": "code",
      "metadata": {
        "id": "7cSdIbegbH_2"
      },
      "source": [
        "# objective without constraint\n",
        "def dual(v, Q, p):\n",
        "  return v.T.dot(Q).dot(v) + p.T.dot(v)"
      ],
      "execution_count": 2,
      "outputs": []
    },
    {
      "cell_type": "code",
      "metadata": {
        "id": "ZCcQgUoOXzJg"
      },
      "source": [
        "class PbUnConstraint(object):\n",
        "  def __init__(self, Q, p, A, b, t):\n",
        "    self.Q = Q \n",
        "    self.p = p\n",
        "    self.A = A\n",
        "    self.b = b\n",
        "    # self.D, self.N = A.shape # N= n et D = 2d\n",
        "    self.p = p\n",
        "    self.t = t\n",
        "\n",
        "  # objective without constraint\n",
        "  def obj(self, v):\n",
        "    return v.T.dot(Q).dot(v) + p.T.dot(v)\n",
        "\n",
        "  # objective with constraint \n",
        "  def barobj(self, v):\n",
        "    obj_function = self.t * (v.T.dot(Q).dot(v) + p.T.dot(v))\n",
        "    if (b - np.dot(A, v) <= 0).any():\n",
        "      return float(\"NaN\")\n",
        "    else :\n",
        "      constraint_function = A.shape[0] * np.mean(np.log(b - np.dot(A, v))) # on enlève 1/2d\n",
        "      return obj_function - constraint_function\n",
        "\n",
        "\n",
        "  # gradient\n",
        "  def grad(self, v):\n",
        "    phi = (1. / (b - np.dot(A, v)))\n",
        "    # diagm = diag * np.eye(A.shape[0])\n",
        "    return (2 * np.dot(Q, v) + p) * self.t + (A.T).dot(phi)\n",
        "\n",
        "  # hessian\n",
        "  def hess(self, v):\n",
        "    phi = b - np.dot(A, v)\n",
        "    # diag = 1 / (d**2)\n",
        "    # diagm = diag * np.eye(A.shape[0])\n",
        "    diagm = np.diag(phi)**2\n",
        "    return 2 * Q * self.t + (A.T).dot(diagm).dot(A)"
      ],
      "execution_count": 3,
      "outputs": []
    },
    {
      "cell_type": "code",
      "metadata": {
        "id": "AOQ2KHkVnQcE"
      },
      "source": [
        "def lineSearch(f, df, v, dv, alpha, beta):\n",
        "  t = 1\n",
        "  while (np.isnan(f(v + t * dv)) or f(v + t * dv) >=  f(v) + alpha * t * (df(v).T.dot(dv))) and ( t > 1e-6):\n",
        "    t *= beta\n",
        "    if np.any(b - np.dot(A, v + t * dv) <= 0):\n",
        "            return t\n",
        "  return t"
      ],
      "execution_count": 4,
      "outputs": []
    },
    {
      "cell_type": "markdown",
      "metadata": {
        "id": "V_2pBchcNKHU"
      },
      "source": [
        "## **Question 2**"
      ]
    },
    {
      "cell_type": "markdown",
      "metadata": {
        "id": "te4xa9aBMg-F"
      },
      "source": [
        "Write a function $v\\_{seq} = centering\\_step(Q, p, A, b, t, v0, eps)$ which implements the Newton method to solve the centering step given the inputs $(Q,p, A, b)$, the barrier method parameter t (see lectures), initial variables $v0$ and a target precision \\epsilon. The function outputs the\n",
        "sequence of variables iterates $(v_i)_{\n",
        "i=1,...,n_{\\epsilon}}$\n",
        ", where $n_{\\epsilon}$ is the number of iterations to obtain the $\\epsilon$\n",
        "precision. Use a backtracking line search with appropriate parameters\n",
        "\n",
        "\n",
        "\n"
      ]
    },
    {
      "cell_type": "code",
      "metadata": {
        "id": "8T9bmRMmHkPS"
      },
      "source": [
        "def centering_step(v0, Q, p, A, b, t, eps=1e-9, alpha=.5, beta=.9, max_iter=500):\n",
        "  v_seq = [v0]\n",
        "  i=0\n",
        "  v = v0\n",
        "\n",
        "  # Class instanciate\n",
        "  pb = PbUnConstraint(Q, p, A, b, t)\n",
        "  # to simplify notations\n",
        "  f = lambda v :  pb.barobj(v)\n",
        "  df = lambda v : pb.grad(v)\n",
        "  dfdf = lambda v : pb.hess(v)\n",
        "  \n",
        "  while i < max_iter : \n",
        "\n",
        "    # Newton method\n",
        "    dv = np.linalg.pinv(dfdf(v)).dot(df(v))\n",
        "    lambda2 = df(v).T.dot(dv)\n",
        "    if ((0.5 * lambda2) <= eps).any():\n",
        "      break\n",
        "\n",
        "    # step size by backtracking line search\n",
        "    t = lineSearch(f, df, v, dv, alpha = alpha, beta = beta)\n",
        "    v = v - t * dv \n",
        "    v_seq.append(v)\n",
        "    i+=1\n",
        "  \n",
        "  return v_seq"
      ],
      "execution_count": 5,
      "outputs": []
    },
    {
      "cell_type": "markdown",
      "metadata": {
        "id": "AFy8ty9aNUMF"
      },
      "source": [
        "Write a function $v\\_seq = barr\\_method(Q, p, A, b, v0, eps)$ which implements the barrier\n",
        "method to solve QP using precedent function given the data inputs $(Q, p, A, b)$, a feasible point\n",
        "$v_0$, a precision criterion $\\epsilon$. The function outputs the sequence of variables iterates $(v_i){ i=1,...,n_{\\epsilon}}$\n",
        "where $n_{\\epsilon}$ is the number of iterations to obtain the $\\epsilon$ precision"
      ]
    },
    {
      "cell_type": "code",
      "metadata": {
        "id": "reJ6_Xx5xnT0"
      },
      "source": [
        "def barr_method(v0, Q, p, A, b, mu, eps = 1e-9, max_iter=500):\n",
        "\n",
        "  #Initialization\n",
        "  v = v0\n",
        "  v_seq = [v0]\n",
        "  m = A.shape[0]\n",
        "  t = 1 \n",
        "\n",
        "  # Class instanciate\n",
        "  pb = PbUnConstraint(Q, p, A, b, t)\n",
        "  # to simplify notations\n",
        "  f = lambda v : pb.obj(v) # Centering step Barrier method\n",
        "  df = lambda v : pb.grad(v)\n",
        "  dfdf = lambda v : pb.hess(v)\n",
        "\n",
        "\n",
        "  # centering step \n",
        "  while (m / t) >= eps:\n",
        "    v = centering_step(v_seq[-1], Q, p, A, b, t, eps=1e-9, alpha=.5, beta=.9, max_iter=500)[-1]\n",
        "    v_seq.append(v)\n",
        "    t *= mu\n",
        "\n",
        "  return v_seq\n"
      ],
      "execution_count": 6,
      "outputs": []
    },
    {
      "cell_type": "markdown",
      "metadata": {
        "id": "WFib8LFsN-RE"
      },
      "source": [
        "## **Question 3**\n",
        "\n",
        "Test your function on randomly generated matrices $X$ and observations $y$ with $\\lambda  = 10$. Plot precision\n",
        "criterion and gap $f(v_t) − f^*$\n",
        "in semilog scale (using the best value found for f as a surrogate for $f^*$).\n",
        "Repeat for different values of the barrier method parameter $\\mu = 2, 15, 50, 100 . . .$ and check the impact\n",
        "on $w$. What would be an appropriate choice for $\\mu$?\n"
      ]
    },
    {
      "cell_type": "code",
      "metadata": {
        "id": "EYekdC50jWNV"
      },
      "source": [
        "def make_data(n, d, lamda=10):\n",
        "\n",
        "    X = 3 * np.random.randn(n, d)\n",
        "    y = 5 + 1.5 * np.random.randn(n)\n",
        "\n",
        "    Q = np.eye(n) / 2\n",
        "    p = - y\n",
        "\n",
        "    A = np.concatenate((X.T, - X.T), axis=0)\n",
        "    b = lamda * np.ones(2 * d)\n",
        "\n",
        "    v0 = np.zeros(n)\n",
        "\n",
        "    return X, y, Q, p, A, b, v0"
      ],
      "execution_count": 7,
      "outputs": []
    },
    {
      "cell_type": "code",
      "metadata": {
        "id": "NbT34gm2c0un",
        "colab": {
          "base_uri": "https://localhost:8080/",
          "height": 406
        },
        "outputId": "013d4d48-6281-4aa0-bc02-e4507104650b"
      },
      "source": [
        "n, d, lamda = 20, 50, 10\n",
        "X, w,  y, Q, p, A, b, v0 = make_data(n, d, lamda)\n",
        "eps = 1e-9\n",
        "alpha, beta = .5, .9\n",
        "max_iter = 500\n",
        "\n",
        "mu_values = [2, 15, 50, 100, 500, 1000]\n",
        "results = [barr_method(v0, Q, p, A, b, mu, eps = 1e-9, max_iter=500) for mu in mu_values]\n",
        "f_values = [[dual(v, Q, p) for v in results[i]] for i in range(len(results))]\n",
        "f_star = np.infty\n",
        "for i in range(len(results)):\n",
        "    for v in f_values[i]:\n",
        "        if f_star > v:\n",
        "            f_star = v\n",
        "\n",
        "plt.figure(figsize=(8, 6))\n",
        "plt.xlabel('Iteration t')\n",
        "plt.ylabel('$f(v_t) - f^*$')\n",
        "plt.title('Influence of $\\\\mu$ on the convergence')\n",
        "for i in range(len(results)):\n",
        "    plt.semilogy(f_values[i] - f_star, label='mu={}'.format(mu_values[i]))\n",
        "plt.legend()\n",
        "plt.show()"
      ],
      "execution_count": 8,
      "outputs": [
        {
          "output_type": "display_data",
          "data": {
            "image/png": "[encoded data removed]",
            "text/plain": [
              "<Figure size 576x432 with 1 Axes>"
            ]
          },
          "metadata": {
            "needs_background": "light"
          }
        }
      ]
    },
    {
      "cell_type": "markdown",
      "metadata": {
        "id": "ZoN8h2X8L8b8"
      },
      "source": [
        "We see that the number of iterations increases if $\\mu$ decreases. We also notice that\n",
        "that the different initializations give almost the same result $f^*$, except for\n",
        "$\\mu = 2$, which gives a better result than the others."
      ]
    },
    {
      "cell_type": "code",
      "metadata": {
        "id": "q1UKf98raFbm"
      },
      "source": [
        "mus = [2, 5, 10, 15, 30, 50, 100]\n",
        "ve = {}\n",
        "for mu in mus:\n",
        "    ve[mu] = barr_method(v0, Q, p, A, b, mu, eps = 1e-9, max_iter=500)[-1]"
      ],
      "execution_count": 9,
      "outputs": []
    },
    {
      "cell_type": "code",
      "metadata": {
        "colab": {
          "base_uri": "https://localhost:8080/"
        },
        "id": "ffQqqZWYcu-M",
        "outputId": "5fd54229-d9ed-4f81-eda4-2494ca7846a2"
      },
      "source": [
        "ve"
      ],
      "execution_count": 12,
      "outputs": [
        {
          "output_type": "execute_result",
          "data": {
            "text/plain": [
              "{2: array([5.26104967, 2.67234425, 2.95238961, 3.97801157, 3.05261139,\n",
              "        6.81966736, 5.37301149, 7.1635455 , 3.73556636, 1.76617304,\n",
              "        6.26365719, 4.70629056, 3.90580129, 6.22551131, 4.05304981,\n",
              "        6.31829467, 7.52353819, 4.26390319, 4.96447997, 3.96913018]),\n",
              " 5: array([5.26104967, 2.67234425, 2.95238961, 3.97801157, 3.05261139,\n",
              "        6.81966736, 5.37301149, 7.1635455 , 3.73556636, 1.76617304,\n",
              "        6.26365719, 4.70629056, 3.90580129, 6.22551131, 4.05304981,\n",
              "        6.31829467, 7.52353819, 4.26390319, 4.96447997, 3.96913018]),\n",
              " 10: array([5.26104967, 2.67234425, 2.95238961, 3.97801157, 3.05261139,\n",
              "        6.81966736, 5.37301149, 7.1635455 , 3.73556636, 1.76617304,\n",
              "        6.26365719, 4.70629056, 3.90580129, 6.22551131, 4.05304981,\n",
              "        6.31829467, 7.52353819, 4.26390319, 4.96447997, 3.96913018]),\n",
              " 15: array([5.26104967, 2.67234425, 2.95238961, 3.97801157, 3.05261139,\n",
              "        6.81966736, 5.37301149, 7.1635455 , 3.73556636, 1.76617304,\n",
              "        6.26365719, 4.70629056, 3.90580129, 6.22551131, 4.05304981,\n",
              "        6.31829467, 7.52353819, 4.26390319, 4.96447997, 3.96913018]),\n",
              " 30: array([5.26104967, 2.67234425, 2.95238961, 3.97801157, 3.05261139,\n",
              "        6.81966736, 5.37301149, 7.1635455 , 3.73556636, 1.76617304,\n",
              "        6.26365719, 4.70629056, 3.90580129, 6.22551131, 4.05304981,\n",
              "        6.31829467, 7.52353819, 4.26390319, 4.96447997, 3.96913018]),\n",
              " 50: array([5.26104967, 2.67234425, 2.95238961, 3.97801157, 3.05261139,\n",
              "        6.81966736, 5.37301149, 7.1635455 , 3.73556636, 1.76617304,\n",
              "        6.26365719, 4.70629056, 3.90580129, 6.22551131, 4.05304981,\n",
              "        6.31829467, 7.52353819, 4.26390319, 4.96447997, 3.96913018]),\n",
              " 100: array([5.26104967, 2.67234425, 2.95238961, 3.97801157, 3.05261139,\n",
              "        6.81966736, 5.37301149, 7.1635455 , 3.73556636, 1.76617304,\n",
              "        6.26365719, 4.70629056, 3.90580129, 6.22551131, 4.05304981,\n",
              "        6.31829467, 7.52353819, 4.26390319, 4.96447997, 3.96913018])}"
            ]
          },
          "metadata": {},
          "execution_count": 12
        }
      ]
    },
    {
      "cell_type": "code",
      "metadata": {
        "id": "KaJV1LLfagBH"
      },
      "source": [
        "we = {}\n",
        "w = np.random.rand(50,1)\n",
        "for mu in mus:\n",
        "    we[mu] = np.dot(np.linalg.pinv(X),ve[mu] + y)"
      ],
      "execution_count": 10,
      "outputs": []
    },
    {
      "cell_type": "code",
      "metadata": {
        "colab": {
          "base_uri": "https://localhost:8080/"
        },
        "id": "dmCS90gDag07",
        "outputId": "b196239e-2c72-443a-85ad-77f78b906007"
      },
      "source": [
        "from tabulate import tabulate\n",
        "values = []\n",
        "for mu in mus:\n",
        "    difference = np.abs(we[mu] - w)\n",
        "    values.append([mu, np.max(difference), np.min(difference), np.mean(difference), np.std(difference)])\n",
        "print(\"|w - w*|\")\n",
        "print(tabulate(values, headers=[\"mu\", \"max\", \"min\", \"mean\", \"std\"]))"
      ],
      "execution_count": 11,
      "outputs": [
        {
          "output_type": "stream",
          "name": "stdout",
          "text": [
            "|w - w*|\n",
            "  mu      max          min      mean       std\n",
            "----  -------  -----------  --------  --------\n",
            "   2  1.48713  0.000124303  0.599588  0.365566\n",
            "   5  1.48713  0.000124303  0.599588  0.365566\n",
            "  10  1.48713  0.000124303  0.599588  0.365566\n",
            "  15  1.48713  0.000124303  0.599588  0.365566\n",
            "  30  1.48713  0.000124303  0.599588  0.365566\n",
            "  50  1.48713  0.000124303  0.599588  0.365566\n",
            " 100  1.48713  0.000124303  0.599588  0.365566\n"
          ]
        }
      ]
    },
    {
      "cell_type": "code",
      "metadata": {
        "id": "mUkw2oGYchHB"
      },
      "source": [
        ""
      ],
      "execution_count": null,
      "outputs": []
    }
  ]
}